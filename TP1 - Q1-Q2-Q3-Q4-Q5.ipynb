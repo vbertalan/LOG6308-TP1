{
 "cells": [
  {
   "cell_type": "markdown",
   "id": "9024a41e",
   "metadata": {},
   "source": [
    "# TP1"
   ]
  },
  {
   "cell_type": "markdown",
   "id": "b826f544",
   "metadata": {},
   "source": [
    "Name"
   ]
  },
  {
   "cell_type": "markdown",
   "id": "10a9b214",
   "metadata": {},
   "source": [
    "## Loads libraries and external data"
   ]
  },
  {
   "cell_type": "code",
   "execution_count": 2,
   "id": "f127c3e0",
   "metadata": {},
   "outputs": [],
   "source": [
    "# Imports libraries\n",
    "from scipy.sparse import csr_matrix\n",
    "import matplotlib.pyplot as plt\n",
    "import pandas as pd\n",
    "import numpy as np\n",
    "import math\n",
    "\n",
    "# Loads CSVs into Pandas variables\n",
    "items = pd.read_csv('items.csv', delimiter= '|')\n",
    "u = pd.read_csv('u.csv', delimiter= '|')\n",
    "votes = pd.read_csv('votes.csv', delimiter= '|')\n",
    "\n",
    "## Excludes the first value from votes (it returns null, not sure why)\n",
    "votes['user.id'] -= 1\n",
    "votes['item.id'] -= 1"
   ]
  },
  {
   "cell_type": "markdown",
   "id": "a6a4c9b9",
   "metadata": {},
   "source": [
    "# Auxiliary Methods - used by the main methods"
   ]
  },
  {
   "cell_type": "code",
   "execution_count": 9,
   "id": "d0fc3765",
   "metadata": {},
   "outputs": [],
   "source": [
    "## Calculates cosine values between the elements of a matrix\n",
    "\n",
    "def cosine_matrix(mat):\n",
    "    \n",
    "    result_matrix = 1.0 * np.matmul(mat.transpose(), mat)\n",
    "    nb_items = len(mat[0])\n",
    "    \n",
    "    for i in range(nb_items):\n",
    "        norm = np.linalg.norm(mat[:, i])\n",
    "        result_matrix[i] = result_matrix[i] / norm\n",
    "        result_matrix[:, i] = result_matrix[:, i] / norm\n",
    "        result_matrix[i, i] = 1.0 * np.NINF\n",
    "    \n",
    "    return result_matrix\n",
    "\n",
    "## Calculates correlation values between the elements of a matrix\n",
    "\n",
    "def corr_matrix(mat):\n",
    "\n",
    "    mat = mat.astype(np.float64)\n",
    "    n = mat.shape[1]\n",
    "    \n",
    "    # Compute the covariance matrix\n",
    "    rowsum = mat.sum(1)\n",
    "    centering = rowsum.dot(rowsum.T.conjugate()) / n\n",
    "    C = (mat.dot(mat.T.conjugate()) - centering) / (n - 1)\n",
    "\n",
    "    # The correlation coefficients are given by\n",
    "    d = np.diag(C)\n",
    "    result_matrix = C / np.sqrt(np.outer(d, d))\n",
    "\n",
    "    return result_matrix\n",
    "\n",
    "## Calculates cross validation based on the number of folds given\n",
    "\n",
    "def cross_validation(data, number_of_folds, seed):\n",
    "   \n",
    "    ## Stores the original dataset, using the seed defined as an attribute\n",
    "    sample_data = data.sample(frac=1, random_state=seed)\n",
    "    ## Creates variables to store the folds, and to guide the loop\n",
    "    fold_size = len(sample_data) // number_of_folds\n",
    "    ini, end, folds = 0, fold_size, []\n",
    "    ## While it doesn't reach the number of folds, splits data\n",
    "    for i in range(number_of_folds):\n",
    "        folds.append(sample_data.iloc[ini:end, :])\n",
    "        ini = end\n",
    "        if (i + 1 == number_of_folds - 1):\n",
    "            end = len(data)\n",
    "        else:\n",
    "            end += fold_size\n",
    "    return folds\n",
    "\n",
    "## Splits the dataset between train and test samples, based on a percentage given\n",
    "\n",
    "def train_test_validation(data, percentage, seed):\n",
    "   \n",
    "    ## Stores the original dataset, using the seed defined as an attribute\n",
    "    sample_data = data.sample(frac=1, random_state=seed)\n",
    "    ## Defines end of the elements using the percentage given\n",
    "    end = math.floor(percentage * len(sample_data))\n",
    "    \n",
    "    train_sample = sample_data.iloc[:end]\n",
    "    test_sample = sample_data.iloc[end:]\n",
    "    \n",
    "    return train_sample, test_sample\n",
    "\n",
    "## Calculates K in the collaborative filtering algorithm \n",
    "\n",
    "def get_K(vote_item_id, w_item_id):\n",
    "    w_item = np.zeros(vote_item_id.shape)\n",
    "    for user, v_user_item in enumerate(vote_item_id):\n",
    "        c_user_item = np.ma.masked_where(v_user_item != 0, v_user_item).mask\n",
    "        w_item[user] = c_user_item * w_item_id\n",
    "    w_item = w_item.sum(axis=1)\n",
    "    w_item = np.true_divide(1, w_item, out=np.zeros_like(w_item), where=w_item != 0)\n",
    "    return w_item"
   ]
  },
  {
   "cell_type": "markdown",
   "id": "1c740493",
   "metadata": {},
   "source": [
    "### Question 1 - Calculez la performance prédictive de quelques approches qui donnent chacune une base de référence : le vote aléatoire, le vote moyen, le vote moyen utilisateur, le vote moyen item et finalement le vote attendu (moyenne du vote moyen utilisateur et item). Raportez l'erreur quadratique moyenne (1) sans validation croisée et (2) avec validation croisée de 10 replis. Déterminez si la différence entre le vote moyen item et le vote moyen utilisateur est statistiquement significative par un test d'hypothèse et en affichant les résultats visuellement.\n"
   ]
  },
  {
   "cell_type": "markdown",
   "id": "da53ad2c",
   "metadata": {},
   "source": [
    "### Method to calculate the MSE, using the method selected by the user - random, average ratings, average user score, average item score, or expected vote. If the user wants cross validation, they may select the number of folds in the \"folds\" parameter. If they do not want cross validation, the user must select the percentage to split the dataset into train/test splits. "
   ]
  },
  {
   "cell_type": "code",
   "execution_count": 7,
   "id": "4e0faddd",
   "metadata": {},
   "outputs": [],
   "source": [
    "def calculate_error(data, use_cross_validation, folds, seed, percentage, method):\n",
    "    \n",
    "    overall_error = []\n",
    "    fold_error, pred_vote = [], 0\n",
    "    \n",
    "    ## Calculates error with K-fold cross validation\n",
    "    if (use_cross_validation): \n",
    "        \n",
    "        folds_data = cross_validation(data,folds,seed)\n",
    "        \n",
    "        ## For each fold, calculates average error\n",
    "        for fold in range(len(folds_data)):\n",
    "\n",
    "            ## Gets the test-rating split\n",
    "            test_data = folds_data[fold]\n",
    "\n",
    "            ## Converts the rating data to 0\n",
    "            rating_data = test_data.copy()\n",
    "            rating_data['rating'] = np.nan\n",
    "\n",
    "            ## Inserts that test-rating split back to the set, and builds train data and CSR matrix from it\n",
    "            train_data = pd.concat(folds_data[:fold] + [rating_data] + folds_data[fold + 1:])\n",
    "            train_matrix = csr_matrix((train_data['rating'], (train_data['user.id'], train_data['item.id']))).toarray()\n",
    "            \n",
    "            ## For each vote in test data, calculate prediction\n",
    "            for _, vote in test_data.iterrows():\n",
    "\n",
    "                ## For the average scores, considers only ratings above 0 (to exclude the rating set)\n",
    "                avg_vote_user = np.mean(train_matrix[vote[\"user.id\"]][train_matrix[vote[\"user.id\"]] > 0])\n",
    "                avg_vote_item = np.mean(train_matrix[:, vote[\"item.id\"]][train_matrix[:, vote[\"item.id\"]] > 0])\n",
    "                \n",
    "                ## Methods required by the TP\n",
    "                if (method==\"random\"):\n",
    "                    pred_vote = np.random.randint(1,high=6)\n",
    "                elif (method==\"avg_vote\"):\n",
    "                    pred_vote = np.nanmean(train_data['rating'])\n",
    "                elif (method==\"avg_user\"):\n",
    "                    pred_vote = avg_vote_user\n",
    "                elif (method==\"avg_item\"):\n",
    "                    pred_vote = avg_vote_item\n",
    "                elif (method==\"expected\"):\n",
    "                    pred_vote = (avg_vote_user + avg_vote_item) / 2\n",
    "\n",
    "                ## Feeds the fold error\n",
    "                fold_error.append((vote[\"rating\"] - pred_vote) ** 2)\n",
    "            \n",
    "            mean_fold_error = np.nanmean(fold_error)\n",
    "            \n",
    "            ## Feeds the overall error\n",
    "            overall_error.append(mean_fold_error)\n",
    "        \n",
    "        return (overall_error)\n",
    "       \n",
    "    ## Calculates error with train-test data split\n",
    "    else: \n",
    "        train_data, test_data = train_test_validation(data, percentage, seed)\n",
    "        \n",
    "        ## Converts the rating data to 0\n",
    "        rating_data = test_data.copy()\n",
    "        rating_data['rating'] = 0\n",
    "        \n",
    "        ## Builds train data and CSR matrix from it. As it is a train-test, just concats the two\n",
    "        train_data = pd.concat([train_data, rating_data])\n",
    "        train_matrix = csr_matrix((train_data['rating'], (train_data['user.id'], train_data['item.id']))).toarray()\n",
    "            \n",
    "        ## For each vote in test data, calculate prediction\n",
    "        for _, vote in test_data.iterrows():\n",
    "\n",
    "            ## Same rule as above\n",
    "            avg_vote_user = np.mean(train_matrix[vote[\"user.id\"]][train_matrix[vote[\"user.id\"]] > 0])         \n",
    "            avg_vote_item = np.mean(train_matrix[:, vote[\"item.id\"]][train_matrix[:, vote[\"item.id\"]] > 0])\n",
    "\n",
    "            ## Methods required by the TP\n",
    "            if (method==\"random\"):\n",
    "                pred_vote = np.random.randint(1,high=6)\n",
    "            elif (method==\"avg_vote\"):\n",
    "                pred_vote = np.mean(train_data['rating'])\n",
    "            elif (method==\"avg_user\"):\n",
    "                pred_vote = avg_vote_user\n",
    "            elif (method==\"avg_item\"):\n",
    "                pred_vote = avg_vote_item\n",
    "            elif (method==\"expected\"):\n",
    "                pred_vote = (avg_vote_user + avg_vote_item) / 2\n",
    "\n",
    "        ## Feeds the fold error\n",
    "            fold_error.append((vote[\"rating\"] - pred_vote) ** 2)\n",
    "        \n",
    "        return (fold_error)"
   ]
  },
  {
   "cell_type": "markdown",
   "id": "ae58ed8e",
   "metadata": {},
   "source": [
    "### Running the code without cross validation - 60% of the set goes to the train set, 40% goes to the test set - for each of the 5 methods required"
   ]
  },
  {
   "cell_type": "code",
   "execution_count": 9,
   "id": "cdfe9b26",
   "metadata": {},
   "outputs": [
    {
     "name": "stdout",
     "output_type": "stream",
     "text": [
      "3.5472\n",
      "3.2554261436000003\n",
      "1.0810834397977556\n",
      "1.0503686194979007\n",
      "0.9601726988362981\n"
     ]
    }
   ],
   "source": [
    "print(np.nanmean(calculate_error(votes, False, None, 50, 0.6, \"random\")))\n",
    "print(np.nanmean(calculate_error(votes, False, None, 50, 0.6, \"avg_vote\")))\n",
    "print(np.nanmean(calculate_error(votes, False, None, 50, 0.6, \"avg_user\")))\n",
    "print(np.nanmean(calculate_error(votes, False, None, 50, 0.6, \"avg_item\")))\n",
    "print(np.nanmean(calculate_error(votes, False, None, 50, 0.6, \"expected\")))"
   ]
  },
  {
   "cell_type": "markdown",
   "id": "3f67ba5e",
   "metadata": {},
   "source": [
    "### Running the code with 10-fold cross validation for each of the 5 methods required"
   ]
  },
  {
   "cell_type": "code",
   "execution_count": 10,
   "id": "523b0b0e",
   "metadata": {},
   "outputs": [
    {
     "name": "stdout",
     "output_type": "stream",
     "text": [
      "3.555123591269841\n",
      "1.2665643969949394\n",
      "1.0863282625135617\n",
      "1.0392195422801267\n",
      "0.9618801517550782\n"
     ]
    }
   ],
   "source": [
    "print(np.mean(calculate_error(votes, True, 10, 50, None, \"random\")))\n",
    "print(np.mean(calculate_error(votes, True, 10, 50, None, \"avg_vote\")))\n",
    "print(np.mean(calculate_error(votes, True, 10, 50, None, \"avg_user\")))\n",
    "print(np.mean(calculate_error(votes, True, 10, 50, None, \"avg_item\")))\n",
    "print(np.mean(calculate_error(votes, True, 10, 50, None, \"expected\")))"
   ]
  },
  {
   "cell_type": "markdown",
   "id": "e6fae6d1",
   "metadata": {},
   "source": [
    "### Finding significance between average user vote and user item (using the train-test split as reference). Since our variances are very similar, we adopt the model proposed in https://en.wikipedia.org/wiki/Student%27s_t-test#Equal_or_unequal_sample_sizes,_similar_variances_(1/2_%3C_sX1/sX2_%3C_2)"
   ]
  },
  {
   "cell_type": "code",
   "execution_count": 308,
   "id": "3cc5e0ff",
   "metadata": {},
   "outputs": [
    {
     "name": "stdout",
     "output_type": "stream",
     "text": [
      "1.0859328893921805e-06\n"
     ]
    }
   ],
   "source": [
    "user_vote = calculate_error(votes, False, None, 50, 0.6, \"avg_user\")\n",
    "user_item = calculate_error(votes, False, None, 50, 0.6, \"avg_item\")\n",
    "\n",
    "vote_mean = np.nanmean(user_vote)\n",
    "item_mean = np.nanmean(user_item)\n",
    "\n",
    "vote_var = np.nanvar(user_vote)\n",
    "item_var = np.nanvar(user_item)\n",
    "\n",
    "vote_len = len(user_vote)\n",
    "item_len = len(user_item)\n",
    "\n",
    "sp = np.sqrt ((vote_len-1*vote_var**2 +  item_len-1*item_var**2)/vote_len+item_len-2)\n",
    "t_test = (vote_mean - item_mean) / sp * np.sqrt(1/item_len + 1/vote_len)\n",
    "print(t_test)"
   ]
  },
  {
   "cell_type": "markdown",
   "id": "bce4e63f",
   "metadata": {},
   "source": [
    "### Therefore, we accept the alternative hypothesis, and there is a statistically significant relationship."
   ]
  },
  {
   "cell_type": "markdown",
   "id": "1acf3c1c",
   "metadata": {},
   "source": [
    "# Question 2 - Calculez l'erreur quadratique moyenne des prédiction des l'approches item-item et utilisateur-utilisateur pour une validation croisée à 5 replis. Utilisez deux mesures de similarité entre items, le cosinus et la corrélation. Utilisez tous les votes disponibles plutôt qu'un calcul avec des voisins rapprochés."
   ]
  },
  {
   "cell_type": "code",
   "execution_count": 7,
   "id": "6fc9a0fe",
   "metadata": {},
   "outputs": [],
   "source": [
    "## Q2 using item-item approach\n",
    "\n",
    "def compute_error_Q2(data, folds, seed, neighbors, method):\n",
    "    \n",
    "    overall_error = []\n",
    "    fold_error, pred_vote = [], 0\n",
    "    folds_data = cross_validation(data,folds,seed)\n",
    "    \n",
    "    ## For each fold, calculates average error\n",
    "    for fold in range(len(folds_data)):              \n",
    "        \n",
    "        ## Gets the test-rating split\n",
    "        test_data = folds_data[fold]\n",
    "        \n",
    "        ## Gets random values in the rating data, to avoid zeros in the similarity matrices\n",
    "        rating_data = test_data.copy()\n",
    "        rating_data['rating'] = np.random.randint(1,high=6)        \n",
    "        \n",
    "        ## Inserts the rating data back into the folds data, and builds train data and CSR matrix from it\n",
    "        train_data = pd.concat(folds_data[:fold] + [rating_data] + folds_data[fold + 1:])                \n",
    "        test_matrix = csr_matrix((train_data['rating'], (train_data['user.id'], train_data['item.id']))).toarray()\n",
    "       \n",
    "        ## Selects method to be used to calculate the similarity matrix\n",
    "        if (method == \"cosine\"):\n",
    "            sim_mat = cosine_matrix(test_matrix)\n",
    "        elif (method == \"correlation\"):\n",
    "            sim_mat = corr_matrix(test_matrix.transpose())\n",
    "        else:\n",
    "            return None\n",
    "    \n",
    "        ## Uses the number of neighbors selected as the parameter\n",
    "        ind = np.argpartition(sim_mat, -neighbors, axis=0)[-neighbors:]\n",
    "        w = sim_mat[np.arange(len(sim_mat)), ind]\n",
    "          \n",
    "        ## Centralizes data to calculate R_0, and initializes the prediction matrix\n",
    "        masked = np.ma.masked_where(test_matrix == 0, test_matrix)\n",
    "        mean = masked.mean(axis=0).filled(0)\n",
    "        R_0 = (masked - mean).filled(0)\n",
    "        res = np.zeros(test_matrix.shape)\n",
    "        \n",
    "        ## Calculates predictions\n",
    "        for item_id in range(test_matrix.shape[1]):\n",
    "            ind_i = ind[:, item_id]\n",
    "            w_i = w[:, item_id]\n",
    "            v_0_i = R_0[:, ind_i]\n",
    "            K_i = get_K(v_0_i, w_i)\n",
    "            res[:, item_id] = (mean[item_id] + K_i * np.matmul(v_0_i, w_i)).clip(1, 5)\n",
    "                   \n",
    "        err = np.full(res.shape, np.nan)            \n",
    "    \n",
    "        ## For each row in test-rating data, calculates the squared error\n",
    "        for _, vote in test_data.iterrows():\n",
    "            pred = res[vote[\"user.id\"], vote[\"item.id\"]]\n",
    "            dif = (vote[\"rating\"] - pred)\n",
    "            err[vote[\"user.id\"], vote[\"item.id\"]] = (dif ** 2)\n",
    "        \n",
    "        ## Feeds errors\n",
    "        mean_err = np.nanmean(err, axis=0)\n",
    "        mean_mse = np.nanmean(mean_err)\n",
    "        overall_error.append(mean_err)        \n",
    "    \n",
    "    return np.nanmean(overall_error)"
   ]
  },
  {
   "cell_type": "markdown",
   "id": "20074394",
   "metadata": {},
   "source": [
    "### Calculates error using item-item approach, 5-fold, correlation method, 10 neighbors"
   ]
  },
  {
   "cell_type": "code",
   "execution_count": 21,
   "id": "7fefc80a",
   "metadata": {},
   "outputs": [
    {
     "name": "stderr",
     "output_type": "stream",
     "text": [
      "C:\\Users\\vbert\\AppData\\Local\\Temp/ipykernel_22840/3086187511.py:56: RuntimeWarning: Mean of empty slice\n",
      "  mean_err = np.nanmean(err, axis=0)\n"
     ]
    },
    {
     "name": "stdout",
     "output_type": "stream",
     "text": [
      "2.804941100008168\n"
     ]
    }
   ],
   "source": [
    "print(compute_error_Q2(votes, 5, 10, 10, \"correlation\"))"
   ]
  },
  {
   "cell_type": "markdown",
   "id": "482b1f6a",
   "metadata": {},
   "source": [
    "### Calculates error using item-item approach, 5-fold, cosine method, 10 neighbors"
   ]
  },
  {
   "cell_type": "code",
   "execution_count": 6,
   "id": "182cde78",
   "metadata": {},
   "outputs": [
    {
     "name": "stderr",
     "output_type": "stream",
     "text": [
      "C:\\Users\\vbert\\AppData\\Local\\Temp/ipykernel_18412/3979486087.py:56: RuntimeWarning: Mean of empty slice\n",
      "  mean_err = np.nanmean(err, axis=0)\n"
     ]
    },
    {
     "name": "stdout",
     "output_type": "stream",
     "text": [
      "1.2852657254776318\n"
     ]
    }
   ],
   "source": [
    "print(compute_error_Q2(votes, 5, 10, 10, \"cosine\"))"
   ]
  },
  {
   "cell_type": "code",
   "execution_count": 4,
   "id": "80000dcf",
   "metadata": {},
   "outputs": [],
   "source": [
    "## Same as before, but using user-user approach\n",
    "\n",
    "def compute_error_Q2_user_user(data, folds, seed, neighbors, method):\n",
    "    \n",
    "    overall_error = []\n",
    "    fold_error, pred_vote = [], 0\n",
    "    folds_data = cross_validation(data,folds,seed)\n",
    "    \n",
    "    ## For each fold, calculates average error\n",
    "    for fold in range(len(folds_data)):              \n",
    "        \n",
    "        ## Gets the test-rating split\n",
    "        test_data = folds_data[fold]\n",
    "        \n",
    "        ## Gets random values in the rating data, to avoid zeros in the similarity matrices\n",
    "        rating_data = test_data.copy()\n",
    "        rating_data['rating'] = np.random.randint(1,high=6)        \n",
    "        \n",
    "        ## Inserts the rating data back into the folds data, and builds train data and CSR matrix from it\n",
    "        train_data = pd.concat(folds_data[:fold] + [rating_data] + folds_data[fold + 1:])                \n",
    "        test_matrix = csr_matrix((train_data['rating'], (train_data['item.id'], train_data['user.id']))).toarray()\n",
    "       \n",
    "        ## Selects method to be used to calculate the similarity matrix\n",
    "        if (method == \"cosine\"):\n",
    "            sim_mat = cosine_matrix(test_matrix)\n",
    "        elif (method == \"correlation\"):\n",
    "            sim_mat = corr_matrix(test_matrix.transpose())\n",
    "        else:\n",
    "            return None\n",
    "    \n",
    "        ## Uses the number of neighbors selected as the parameter\n",
    "        ind = np.argpartition(sim_mat, -neighbors, axis=0)[-neighbors:]\n",
    "        w = sim_mat[np.arange(len(sim_mat)), ind]\n",
    "          \n",
    "        ## Centralizes data to calculate R_0, and initializes the prediction matrix\n",
    "        masked = np.ma.masked_where(test_matrix == 0, test_matrix)\n",
    "        mean = masked.mean(axis=0).filled(0)\n",
    "        R_0 = (masked - mean).filled(0)\n",
    "        res = np.zeros(test_matrix.shape)\n",
    "        \n",
    "        ## Calculates predictions\n",
    "        for user_id in range(test_matrix.shape[1]):\n",
    "            ind_i = ind[:, user_id]\n",
    "            w_i = w[:, user_id]\n",
    "            v_0_i = R_0[:, ind_i]\n",
    "            K_i = get_K(v_0_i, w_i)\n",
    "            res[:, user_id] = (mean[user_id] + K_i * np.matmul(v_0_i, w_i)).clip(1, 5)\n",
    "                   \n",
    "        err = np.full(res.shape, np.nan)            \n",
    "    \n",
    "        ## For each row in test-rating data, calculates the squared error\n",
    "        for _, vote in test_data.iterrows():\n",
    "            pred = res[vote[\"item.id\"], vote[\"user.id\"]]\n",
    "            dif = (vote[\"rating\"] - pred)\n",
    "            err[vote[\"item.id\"], vote[\"user.id\"]] = (dif ** 2)\n",
    "        \n",
    "        ## Feeds errors\n",
    "        mean_err = np.nanmean(err, axis=0)\n",
    "        mean_mse = np.nanmean(mean_err)\n",
    "        overall_error.append(mean_err)        \n",
    "    \n",
    "    return np.nanmean(overall_error)"
   ]
  },
  {
   "cell_type": "markdown",
   "id": "9e3638d9",
   "metadata": {},
   "source": [
    "### Calculates error using user-user approach, correlation method, 5-fold, and 10 neighbors"
   ]
  },
  {
   "cell_type": "code",
   "execution_count": 5,
   "id": "6049f7d4",
   "metadata": {},
   "outputs": [
    {
     "name": "stderr",
     "output_type": "stream",
     "text": [
      "C:\\Users\\vbert\\AppData\\Local\\Temp/ipykernel_11672/2228632374.py:58: RuntimeWarning: Mean of empty slice\n",
      "  mean_err = np.nanmean(err, axis=0)\n"
     ]
    },
    {
     "name": "stdout",
     "output_type": "stream",
     "text": [
      "2.346239815601421\n"
     ]
    }
   ],
   "source": [
    "print(compute_error_Q2_user_user(votes, 5, 10, 10, \"correlation\"))"
   ]
  },
  {
   "cell_type": "markdown",
   "id": "9204505d",
   "metadata": {},
   "source": [
    "### Calculates error using user-user approach, cosine method, 5-fold, and 10 neighbors"
   ]
  },
  {
   "cell_type": "code",
   "execution_count": 6,
   "id": "c8f9aeed",
   "metadata": {},
   "outputs": [
    {
     "name": "stderr",
     "output_type": "stream",
     "text": [
      "C:\\Users\\vbert\\AppData\\Local\\Temp/ipykernel_11672/2228632374.py:58: RuntimeWarning: Mean of empty slice\n",
      "  mean_err = np.nanmean(err, axis=0)\n"
     ]
    },
    {
     "name": "stdout",
     "output_type": "stream",
     "text": [
      "1.2891883787031333\n"
     ]
    }
   ],
   "source": [
    "print(compute_error_Q2_user_user(votes, 5, 10, 10, \"cosine\"))"
   ]
  },
  {
   "cell_type": "markdown",
   "id": "aa889edd",
   "metadata": {},
   "source": [
    "### Une version avec voisins rapprochés peut aussi être implémentée afin de déterminer le nombre optimal de voisins (entre 10, 25, 50, ou 100) pour l'approche item-item. Jusqu'à trois points bonus seront accordés pour une implémentation qui tient correctement compte des votes communs et des votes manquants. Le maximum des points à ce TP demeure cependant de 30/30."
   ]
  },
  {
   "cell_type": "code",
   "execution_count": 29,
   "id": "61d16292",
   "metadata": {},
   "outputs": [
    {
     "name": "stderr",
     "output_type": "stream",
     "text": [
      "C:\\Users\\vbert\\AppData\\Local\\Temp/ipykernel_11672/2228632374.py:58: RuntimeWarning: Mean of empty slice\n",
      "  mean_err = np.nanmean(err, axis=0)\n"
     ]
    }
   ],
   "source": [
    "user_user_cosine = {}\n",
    "user_user_corr = {}\n",
    "item_item_cosine = {}\n",
    "item_item_corr = {}\n",
    "neighbor_values = [10,25,50,100]\n",
    "\n",
    "for value in neighbor_values:\n",
    "    user_user_cosine.update({value:compute_error_Q2_user_user(votes, 5, 10, value, \"cosine\")})\n",
    "    user_user_corr.update({value:compute_error_Q2_user_user(votes, 5, 10, value, \"correlation\")})\n",
    "    item_item_cosine.update({value:compute_error_Q2(votes, 5, 10, value, \"cosine\")})\n",
    "    item_item_corr.update({value:compute_error_Q2(votes, 5, 10, value, \"correlation\")})"
   ]
  },
  {
   "cell_type": "code",
   "execution_count": 47,
   "id": "da277a46",
   "metadata": {},
   "outputs": [
    {
     "name": "stdout",
     "output_type": "stream",
     "text": [
      "{10: 2.1244671367304164, 25: 1.6669865285230834, 50: 1.9633379042987757, 100: 1.6146557081576751}\n",
      "{10: 1.2083436666149034, 25: 1.1273074662533211, 50: 1.0994792859535358, 100: 1.0443841173556438}\n",
      "{10: 2.8192087686296805, 25: 2.5494360260795013, 50: 2.9350627642891087, 100: 2.7392408112277873}\n",
      "{10: 1.2930467411054882, 25: 1.4703035105186537, 50: 1.3365215447053473, 100: 2.7392408112277873}\n"
     ]
    }
   ],
   "source": [
    "print(user_user_corr)\n",
    "print(user_user_cosine)\n",
    "print(item_item_corr)\n",
    "print(item_item_cosine)"
   ]
  },
  {
   "cell_type": "code",
   "execution_count": 76,
   "id": "5c48365d",
   "metadata": {
    "scrolled": true
   },
   "outputs": [
    {
     "data": {
      "image/png": "[encoded data removed]",
      "text/plain": [
       "<Figure size 1080x720 with 4 Axes>"
      ]
     },
     "metadata": {
      "needs_background": "light"
     },
     "output_type": "display_data"
    }
   ],
   "source": [
    "f, axs = plt.subplots(2,2,figsize=(15,10))\n",
    "\n",
    "plt.subplot(2, 2, 1)\n",
    "barlist = plt.bar(range(len(user_user_corr)), list(user_user_corr.values()), tick_label=list(user_user_corr.keys()))\n",
    "barlist[3].set_color('g')\n",
    "plt.title('Errors in User-User Correlation Method')\n",
    "plt.xlabel('N. of Neighbors')\n",
    "plt.ylabel('MSEs')\n",
    "\n",
    "plt.subplot(2, 2, 2)\n",
    "barlist = plt.bar(range(len(user_user_cosine)), list(user_user_cosine.values()), tick_label=list(user_user_corr.keys()))\n",
    "barlist[3].set_color('g')\n",
    "plt.title('Errors in User-User Cosine Method')\n",
    "plt.xlabel('N. of Neighbors')\n",
    "plt.ylabel('MSEs')\n",
    "\n",
    "plt.subplot(2, 2, 3)\n",
    "barlist = plt.bar(range(len(item_item_corr)), list(item_item_corr.values()), tick_label=list(item_item_corr.keys()))\n",
    "barlist[1].set_color('g')\n",
    "plt.title('Errors in Item-Item Correlation Method')\n",
    "plt.xlabel('N. of Neighbors')\n",
    "plt.ylabel('MSEs')\n",
    "\n",
    "plt.subplot(2, 2, 4)\n",
    "barlist = plt.bar(range(len(item_item_cosine)), list(item_item_cosine.values()), tick_label=list(item_item_corr.keys()))\n",
    "barlist[0].set_color('g')\n",
    "plt.title('Errors in Item-Item Cosine Method')\n",
    "plt.xlabel('N. of Neighbors')\n",
    "plt.ylabel('MSEs')\n",
    "\n",
    "plt.show()"
   ]
  },
  {
   "cell_type": "markdown",
   "id": "cd9d2e53",
   "metadata": {},
   "source": [
    "# Question 3 - Utilisez l'approche de factorisation par valeurs singulières (SVD) et calculez l'erreur quadratique moyenne. Déterminez le nombre de dimensions à retenir par une méthode de votre choix. Effectuez une validation croisée de 5 replis.\n"
   ]
  },
  {
   "cell_type": "code",
   "execution_count": 1,
   "id": "5937d0f5",
   "metadata": {},
   "outputs": [],
   "source": [
    "## Auxiliary methods\n",
    "\n",
    "## Decomposes a CSR matrix\n",
    "def svd_decomp(model):\n",
    "    u, s, vh = np.linalg.svd(model, full_matrices=False)\n",
    "    return u, np.diag(s), vh\n",
    "\n",
    "## Reduces the matrix\n",
    "def svd_decomp_reduc(model, k):\n",
    "    U, s, V = svd_decomp(model)\n",
    "    s = s[0:k, 0:k]\n",
    "    U = U[:, 0:k]\n",
    "    V = V[0:k, :]\n",
    "\n",
    "    UsV = U @ s @ V\n",
    "\n",
    "    return UsV"
   ]
  },
  {
   "cell_type": "code",
   "execution_count": 18,
   "id": "3a8f3a49",
   "metadata": {},
   "outputs": [],
   "source": [
    "def svd_cross_validation(data, dim, n_folds, seed):\n",
    "    \n",
    "    folds_data = cross_validation(data, n_folds, seed)\n",
    "    overall_error = []\n",
    "            \n",
    "    ## For each fold, calculates average error\n",
    "    for fold in range(len(folds_data)):  \n",
    "        \n",
    "        ## Splits train and test data\n",
    "        test_data = folds_data[fold]\n",
    "        train_data = pd.concat(folds_data[:fold] + folds_data[fold + 1:])\n",
    "        \n",
    "        ## Builds CSR matrix from train data\n",
    "        train_matrix = csr_matrix((train_data['rating'], (train_data['user.id'], train_data['item.id'])), shape=(943, 1682),\n",
    "                             dtype=float).toarray()\n",
    "        \n",
    "        ## Masks zeroes into NaN values\n",
    "        mask = (train_matrix == 0.0)\n",
    "        masked_arr = np.ma.masked_array(train_matrix, mask)\n",
    "        \n",
    "        ## Masks NaN values by the average rating if each item\n",
    "        item_means = np.mean(masked_arr, axis=0, dtype=float).filled(0.0)  \n",
    "        user_means = np.mean(masked_arr, axis=1, dtype=float).filled(0.0)\n",
    "        average_means = (1 / 2 * (item_means + user_means[:, np.newaxis]))\n",
    "\n",
    "        ## Centers matrix by its average values\n",
    "        centered = np.array(masked_arr.filled(average_means)) - average_means\n",
    "\n",
    "        ## Calculates SVD for the matrix\n",
    "        svd_matrix = svd_decomp_reduc(centered, dim) + average_means\n",
    "                \n",
    "        err = []\n",
    "        \n",
    "        ## Tests predictions against the ground truth\n",
    "        for _, vote in test_data.iterrows():\n",
    "            err.append((vote['rating'] - svd_matrix[vote['user.id'], vote['item.id']]) ** 2)\n",
    "\n",
    "        ## Feeds the overall error\n",
    "        overall_error.append(np.nanmean(err))\n",
    "\n",
    "    return np.mean(overall_error)"
   ]
  },
  {
   "cell_type": "markdown",
   "id": "8eb0e3c6",
   "metadata": {},
   "source": [
    "### Running the SVD with 5-fold cross validation"
   ]
  },
  {
   "cell_type": "code",
   "execution_count": 19,
   "id": "8abde12d",
   "metadata": {},
   "outputs": [
    {
     "name": "stdout",
     "output_type": "stream",
     "text": [
      "0.9109483438312275\n"
     ]
    }
   ],
   "source": [
    "print (svd_cross_validation(votes, 5, 5, 10))"
   ]
  },
  {
   "cell_type": "code",
   "execution_count": 26,
   "id": "bda483bf",
   "metadata": {},
   "outputs": [
    {
     "data": {
      "image/png": "[encoded data removed]",
      "text/plain": [
       "<Figure size 432x288 with 1 Axes>"
      ]
     },
     "metadata": {
      "needs_background": "light"
     },
     "output_type": "display_data"
    }
   ],
   "source": [
    "## Tests different dimensions to find the smallest error\n",
    "def dim_test(data, dim_min, dim_max, n_folds, seed):\n",
    "    err_min = np.PINF\n",
    "    dim = None\n",
    "    err_list = []\n",
    "    for k in range(dim_min, dim_max + 1):\n",
    "        err = svd_cross_validation(data, k, n_folds, seed)\n",
    "        err_list.append(err)\n",
    "        if err < err_min:\n",
    "            err_min = err\n",
    "            dim = k\n",
    "    return dim, err, err_list\n",
    "\n",
    "dim_min, dim_max = 5, 20\n",
    "dim, err, err_list = dim_test(votes, dim_min, dim_max, 5, 10)\n",
    "\n",
    "plt.plot(range(dim_min, dim_max + 1), err_list, 'd-r')\n",
    "plt.title(\"Mean Squared Error with the SVD approach for different dimensions\")\n",
    "plt.ylabel(\"MSE\")\n",
    "plt.xlabel(\"Dimensions\")\n",
    "plt.show()"
   ]
  },
  {
   "cell_type": "markdown",
   "id": "e5f11976",
   "metadata": {},
   "source": [
    "Therefore, we can see that the optimal number of dimensions is between 10 and 15. The error is higher before 10, and increses after 15. "
   ]
  },
  {
   "cell_type": "markdown",
   "id": "0f977bbc",
   "metadata": {},
   "source": [
    "# Question 4 - Utilisez une approche par agglomération (clustering) pour prédire les votes et calculez l'erreur quadratique moyenne. Utilisez 5, 10, 20, 40 et 80 classes. Prenez l'approche K-moyenne (K-means) et utilisez la corrélation comme mesure de distance et une validation croisée de 5 replis pour établir les classes. \n"
   ]
  },
  {
   "cell_type": "code",
   "execution_count": 78,
   "id": "aa41e356",
   "metadata": {},
   "outputs": [],
   "source": [
    "## Auxiliary methods\n",
    "\n",
    "## Fills missing data with the average for each value\n",
    "def fill_missing(data):\n",
    "    \n",
    "    ## Gets average values\n",
    "    avg_user = np.true_divide(data.sum(axis=1), (data != 0).sum(axis=1))\n",
    "    avg_item = np.true_divide(data.sum(axis=0), (data != 0).sum(axis=0))\n",
    "    \n",
    "    ## For each user/item, inputs values\n",
    "    for user_id, user in enumerate(data):\n",
    "        for item_id, item in enumerate(user):\n",
    "            if item == 0:\n",
    "                val = 0\n",
    "                div = 0\n",
    "                if not np.isnan(avg_user[user_id]):\n",
    "                    val += avg_user[user_id]\n",
    "                    div += 1\n",
    "                if not np.isnan(avg_item[item_id]):\n",
    "                    val += avg_item[item_id]\n",
    "                    div += 1\n",
    "                data[user_id][item_id] = val / div\n",
    "\n",
    "## Calculates the mean of each cluster\n",
    "def compute_clusters_mean(data, clusters, nb_cluster):\n",
    "    result = []\n",
    "    for i in range(nb_cluster):\n",
    "        mask = np.ma.masked_where(clusters == i, clusters).mask\n",
    "        masked_data = data[mask]\n",
    "        means = np.true_divide(masked_data.sum(0), (masked_data != 0).sum(0))\n",
    "        result.append(means)\n",
    "\n",
    "    return result"
   ]
  },
  {
   "cell_type": "code",
   "execution_count": 79,
   "id": "4b9af909",
   "metadata": {},
   "outputs": [],
   "source": [
    "from sklearn.cluster import KMeans\n",
    "from statistics import NormalDist\n",
    "\n",
    "def calculate_kmeans(data, n_folds, n_cluster, seed):\n",
    "    \n",
    "    folds_data = cross_validation(data, n_folds, seed)\n",
    "    overall_error = []   \n",
    "    \n",
    "    ## Masks zeroed values\n",
    "    original_matrix = csr_matrix((data['rating'], (data['user.id'], data['item.id']))).toarray()\n",
    "    missing_val = np.ma.masked_where(original_matrix == 0, original_matrix).mask\n",
    "\n",
    "    ## Fills missing values\n",
    "    filled_matrix = original_matrix.astype(float)\n",
    "    fill_missing(filled_matrix)\n",
    "    \n",
    "    ## For each fold, calculates average error\n",
    "    for fold in range(len(folds_data)):  \n",
    "        \n",
    "        ## Splits test-rating data with zeroes, and reinserts it into the overall data\n",
    "        test_data = folds_data[fold]\n",
    "        rating_data = test_data.copy()\n",
    "        rating_data['rating'] = 0\n",
    "        train_data = pd.concat(folds_data[:fold] + [rating_data] + folds_data[fold + 1:])\n",
    "        train_matrix = csr_matrix((train_data['rating'], (train_data['user.id'], train_data['item.id']))).toarray()\n",
    "        \n",
    "        ## Using correlation as the similarity metric\n",
    "        cor = np.corrcoef(train_matrix)\n",
    "\n",
    "        ## Calculates K-Means\n",
    "        kmeans = KMeans(n_clusters=n_cluster, random_state=5).fit(cor)\n",
    "        clusters = kmeans.labels_\n",
    "\n",
    "        ## Fills missing values in the train matrix\n",
    "        train_matrix = train_matrix.astype(float)\n",
    "        train_matrix[missing_val] = filled_matrix[missing_val]\n",
    "\n",
    "        ## Creates array with mean for each cluster\n",
    "        clusters_mean = np.array(compute_clusters_mean(train_matrix, clusters, n_cluster))\n",
    "        \n",
    "        ## Tests data\n",
    "        err = []\n",
    "        for _, vote in test_data.iterrows():\n",
    "            cluster_num = clusters[vote[\"user.id\"]]\n",
    "            pred = clusters_mean[cluster_num][vote[\"item.id\"]]\n",
    "            dif = (vote[\"rating\"] - pred)\n",
    "            err.append(dif ** 2)\n",
    "        \n",
    "        overall_error.append(np.nanmean(err))\n",
    "        \n",
    "    return np.mean(overall_error)"
   ]
  },
  {
   "cell_type": "markdown",
   "id": "6e92e137",
   "metadata": {},
   "source": [
    "### Running the K-Means algorithm with 5-fold cross validation and 5 clusters"
   ]
  },
  {
   "cell_type": "code",
   "execution_count": 80,
   "id": "191a202f",
   "metadata": {},
   "outputs": [
    {
     "data": {
      "text/plain": [
       "1.0516267979792473"
      ]
     },
     "execution_count": 80,
     "metadata": {},
     "output_type": "execute_result"
    }
   ],
   "source": [
    "calculate_kmeans(votes, 5, 5, 10)"
   ]
  },
  {
   "cell_type": "code",
   "execution_count": 70,
   "id": "499745b7",
   "metadata": {},
   "outputs": [
    {
     "data": {
      "image/png": "[encoded data removed]",
      "text/plain": [
       "<Figure size 432x288 with 1 Axes>"
      ]
     },
     "metadata": {
      "needs_background": "light"
     },
     "output_type": "display_data"
    }
   ],
   "source": [
    "## Tests the algo with the dimmensions required by the TP\n",
    "def dim_test(data, dimensions, n_folds, seed):\n",
    "    err_min = np.PINF\n",
    "    dim = None\n",
    "    err_list = []\n",
    "    for k in dimensions:\n",
    "        err = calculate_kmeans(data, k, n_folds, seed)\n",
    "        err_list.append(err)\n",
    "        if err < err_min:\n",
    "            err_min = err\n",
    "            dim = k\n",
    "    return dim, err, err_list\n",
    "\n",
    "dimensions = [5, 10, 20, 40, 80]\n",
    "dim, err, err_list = dim_test(votes, dimensions, 5, 10)\n",
    "\n",
    "## Plots data\n",
    "plt.plot(dimensions, err_list, 'd-r')\n",
    "plt.title(\"Mean Squared Error with the K-Means approach for different dimensions\")\n",
    "plt.ylabel(\"MSE\")\n",
    "plt.xlabel(\"Dimensions\")\n",
    "from scipy.sparse import coo_matrix, csr_matrixuser.columns = [column.replace(\" \", \"\") for column in user.columns];plt.show()"
   ]
  },
  {
   "cell_type": "code",
   "execution_count": 1,
   "id": "6494bb6a",
   "metadata": {},
   "outputs": [
    {
     "ename": "NameError",
     "evalue": "name 'pd' is not defined",
     "output_type": "error",
     "traceback": [
      "\u001b[1;31m---------------------------------------------------------------------------\u001b[0m",
      "\u001b[1;31mNameError\u001b[0m                                 Traceback (most recent call last)",
      "\u001b[1;32m~\\AppData\\Local\\Temp/ipykernel_49932/1493336236.py\u001b[0m in \u001b[0;36m<module>\u001b[1;34m\u001b[0m\n\u001b[0;32m      2\u001b[0m \u001b[1;33m\u001b[0m\u001b[0m\n\u001b[0;32m      3\u001b[0m \u001b[1;31m# Loads CSVs into Pandas variables\u001b[0m\u001b[1;33m\u001b[0m\u001b[1;33m\u001b[0m\u001b[1;33m\u001b[0m\u001b[0m\n\u001b[1;32m----> 4\u001b[1;33m \u001b[0mitems\u001b[0m \u001b[1;33m=\u001b[0m \u001b[0mpd\u001b[0m\u001b[1;33m.\u001b[0m\u001b[0mread_csv\u001b[0m\u001b[1;33m(\u001b[0m\u001b[1;34m'items.csv'\u001b[0m\u001b[1;33m,\u001b[0m \u001b[0mdelimiter\u001b[0m\u001b[1;33m=\u001b[0m \u001b[1;34m'|'\u001b[0m\u001b[1;33m)\u001b[0m\u001b[1;33m\u001b[0m\u001b[1;33m\u001b[0m\u001b[0m\n\u001b[0m\u001b[0;32m      5\u001b[0m \u001b[0mu\u001b[0m \u001b[1;33m=\u001b[0m \u001b[0mpd\u001b[0m\u001b[1;33m.\u001b[0m\u001b[0mread_csv\u001b[0m\u001b[1;33m(\u001b[0m\u001b[1;34m'u.csv'\u001b[0m\u001b[1;33m,\u001b[0m \u001b[0mdelimiter\u001b[0m\u001b[1;33m=\u001b[0m \u001b[1;34m'|'\u001b[0m\u001b[1;33m)\u001b[0m\u001b[1;33m\u001b[0m\u001b[1;33m\u001b[0m\u001b[0m\n\u001b[0;32m      6\u001b[0m \u001b[0mvotes\u001b[0m \u001b[1;33m=\u001b[0m \u001b[0mpd\u001b[0m\u001b[1;33m.\u001b[0m\u001b[0mread_csv\u001b[0m\u001b[1;33m(\u001b[0m\u001b[1;34m'votes.csv'\u001b[0m\u001b[1;33m,\u001b[0m \u001b[0mdelimiter\u001b[0m\u001b[1;33m=\u001b[0m \u001b[1;34m'|'\u001b[0m\u001b[1;33m)\u001b[0m\u001b[1;33m\u001b[0m\u001b[1;33m\u001b[0m\u001b[0m\n",
      "\u001b[1;31mNameError\u001b[0m: name 'pd' is not defined"
     ]
    }
   ],
   "source": [
    "from scipy.sparse import csr_matrix\n",
    "\n",
    "# Loads CSVs into Pandas variables\n",
    "items = pd.read_csv('items.csv', delimiter= '|')\n",
    "u = pd.read_csv('u.csv', delimiter= '|')\n",
    "votes = pd.read_csv('votes.csv', delimiter= '|')\n",
    "\n",
    "## adjusts columns in U datset\n",
    "u.columns = [column.replace(\" \", \"\") for column in u.columns];\n",
    "\n",
    "## creates train matrix\n",
    "train_matrix = csr_matrix((votes.loc[:, 'rating'], (votes.loc[:, 'user.id'], votes.loc[:, 'item.id'])))\n",
    "\n",
    "## example hyperparameters\n",
    "pro = \"engineer\"\n",
    "sexe = \"M\"\n",
    "age = 50\n",
    "\n",
    "## the minimum grade that makes me like a movie\n",
    "voteMin = 4\n",
    "\n",
    "## selects rows based on the hyperparameters\n",
    "pro_rows = u[u[\"job\"]==pro].index.tolist()\n",
    "sex_rows = u[u[\"gender\"]==sexe].index.tolist()\n",
    "age_rows = u[u[\"age\"] > age-25][u[\"age\"] < age+25].index.tolist()\n",
    "\n",
    "## calculates Bayes Theorem for each hyperparameter\n",
    "prob_job = np.sum(train_matrix[pro_rows,:] >= voteMin, axis=0).astype(float) / np.sum(train_matrix >= voteMin, axis=0)\n",
    "prob_age = np.sum(train_matrix[age_rows,:] >= voteMin, axis=0).astype(float) / np.sum(train_matrix >= voteMin, axis=0)\n",
    "prob_sex = np.sum(train_matrix[sex_rows,:] >= voteMin, axis=0).astype(float) / np.sum(train_matrix >= voteMin, axis=0)\n",
    "prob_grade = np.sum(train_matrix >= voteMin, axis=0).astype(float) / np.sum(train_matrix > 0, axis=0)\n",
    "\n",
    "## gets combined Bayes Theorem\n",
    "comb_prob = np.multiply(prob_grade,np.multiply(prob_job,np.multiply(prob_age,prob_sex)))\n",
    "prob = np.array(comb_prob)[0]\n",
    "nb_nan = np.sum(np.isnan(prob))\n",
    "\n",
    "## Selects and prints final recommended set\n",
    "recomended = np.argsort(prob)[-(nb_nan + 11):-nb_nan][::-1]\n",
    "result_set = items.loc[recomended]\n",
    "print(result_set[:,  9]])"
   ]
  }
 ],
 "metadata": {
  "kernelspec": {
   "display_name": "Python 3 (ipykernel)",
   "language": "python",
   "name": "python3"
  },
  "language_info": {
   "codemirror_mode": {
    "name": "ipython",
    "version": 3
   },
   "file_extension": ".py",
   "mimetype": "text/x-python",
   "name": "python",
   "nbconvert_exporter": "python",
   "pygments_lexer": "ipython3",
   "version": "3.8.12"
  }
 },
 "nbformat": 4,
 "nbformat_minor": 5
}
